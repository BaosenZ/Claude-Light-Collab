{
 "cells": [
  {
   "cell_type": "code",
   "execution_count": 1,
   "id": "da744b5c",
   "metadata": {},
   "outputs": [],
   "source": [
    "import os\n",
    "import libsql\n",
    "import json\n",
    "import pandas as pd\n",
    "import requests\n",
    "from dotenv import load_dotenv\n",
    "\n",
    "load_dotenv()\n",
    "\n",
    "url = os.getenv(\"CLAUDELIGHT_DB_URL\")\n",
    "auth_token = os.getenv(\"CLAUDELIGHT_RW\")\n",
    "conn = libsql.connect(\"db_BZ/claude_light.db\", sync_url=url, auth_token=auth_token)\n",
    "conn.sync()"
   ]
  },
  {
   "cell_type": "markdown",
   "id": "953f4d1f",
   "metadata": {},
   "source": [
    "## Get more features"
   ]
  },
  {
   "cell_type": "code",
   "execution_count": 2,
   "id": "a745751c",
   "metadata": {},
   "outputs": [],
   "source": [
    "from datetime import datetime\n",
    "from zoneinfo import ZoneInfo\n",
    "\n",
    "def convert_time(str_data_UnixTime):\n",
    "    dt_data = datetime.fromtimestamp(float(str_data_UnixTime), ZoneInfo(\"America/New_York\"))\n",
    "    day_of_year = int(dt_data.timetuple().tm_yday)\n",
    "    time_of_day = round(float(dt_data.hour + dt_data.minute/60 + dt_data.second/3600), 3)\n",
    "    return day_of_year, time_of_day"
   ]
  },
  {
   "cell_type": "code",
   "execution_count": 3,
   "id": "1afbcd18",
   "metadata": {},
   "outputs": [],
   "source": [
    "OPEN_WEATHER_MAP_KEY = os.getenv('OPEN_WEATHER_MAP_KEY')\n",
    "\n",
    "def request_weather_cloud(str_data_UnixTime):\n",
    "    # Get Pittsburgh Coordinates\n",
    "    lat = 40.4406\n",
    "    lon = -79.9959\n",
    "    \n",
    "    # Call weather API\n",
    "    url = \"https://api.openweathermap.org/data/3.0/onecall/timemachine\"\n",
    "    params = {\n",
    "        \"lat\": lat,\n",
    "        \"lon\": lon,\n",
    "        \"dt\": int(str_data_UnixTime),\n",
    "        \"appid\": OPEN_WEATHER_MAP_KEY,\n",
    "    }\n",
    "    response = requests.get(url, params=params)\n",
    "    data = response.json()\n",
    "    weather_main = data['data'][0]['weather'][0]['main']\n",
    "    cloud_cover_percent = data['data'][0]['clouds']\n",
    "    \n",
    "    # Convert weather to int\n",
    "    # Get weather conditions from website\n",
    "    list_weather_classes = ['Clear', 'Clouds', 'Rain', 'Snow', 'Drizzle',\n",
    "                   'Thunderstorm', 'Mist', 'Fog', 'Haze']\n",
    "    dict_weather_classes_index = {label: idx for idx, label in enumerate(list_weather_classes)}\n",
    "    weather_index = dict_weather_classes_index.get(weather_main, -1)\n",
    "\n",
    "    # print(\"Weather:\", weather_main)\n",
    "    # print(\"Cloud Cover (%):\", cloud_cover_percent)\n",
    "    return weather_index, cloud_cover_percent"
   ]
  },
  {
   "cell_type": "code",
   "execution_count": null,
   "id": "bd01453b",
   "metadata": {},
   "outputs": [
    {
     "name": "stdout",
     "output_type": "stream",
     "text": [
      "(1, 12)\n"
     ]
    },
    {
     "data": {
      "text/html": [
       "<div>\n",
       "<style scoped>\n",
       "    .dataframe tbody tr th:only-of-type {\n",
       "        vertical-align: middle;\n",
       "    }\n",
       "\n",
       "    .dataframe tbody tr th {\n",
       "        vertical-align: top;\n",
       "    }\n",
       "\n",
       "    .dataframe thead th {\n",
       "        text-align: right;\n",
       "    }\n",
       "</style>\n",
       "<table border=\"1\" class=\"dataframe\">\n",
       "  <thead>\n",
       "    <tr style=\"text-align: right;\">\n",
       "      <th></th>\n",
       "      <th>R</th>\n",
       "      <th>G</th>\n",
       "      <th>B</th>\n",
       "      <th>day_of_year</th>\n",
       "      <th>time_of_day</th>\n",
       "      <th>weather_index</th>\n",
       "      <th>cloud_cover_percent</th>\n",
       "      <th>I_445</th>\n",
       "      <th>I_515</th>\n",
       "      <th>I_630</th>\n",
       "      <th>I_clear</th>\n",
       "      <th>date</th>\n",
       "    </tr>\n",
       "  </thead>\n",
       "  <tbody>\n",
       "    <tr>\n",
       "      <th>0</th>\n",
       "      <td>0.5</td>\n",
       "      <td>0.5</td>\n",
       "      <td>0.5</td>\n",
       "      <td>301</td>\n",
       "      <td>14.718</td>\n",
       "      <td>0</td>\n",
       "      <td>0</td>\n",
       "      <td>15833</td>\n",
       "      <td>32977</td>\n",
       "      <td>16206</td>\n",
       "      <td>54301</td>\n",
       "      <td>20251028</td>\n",
       "    </tr>\n",
       "  </tbody>\n",
       "</table>\n",
       "</div>"
      ],
      "text/plain": [
       "     R    G    B  day_of_year  time_of_day  weather_index  \\\n",
       "0  0.5  0.5  0.5          301       14.718              0   \n",
       "\n",
       "   cloud_cover_percent  I_445  I_515  I_630  I_clear      date  \n",
       "0                    0  15833  32977  16206    54301  20251028  "
      ]
     },
     "execution_count": 11,
     "metadata": {},
     "output_type": "execute_result"
    }
   ],
   "source": [
    "# Read data from db and covert to df\n",
    "\n",
    "df = pd.DataFrame()\n",
    "for rowid, data in conn.execute(\"\"\"SELECT * FROM measurements WHERE json_extract(data, '$.tag') = '20251028'\"\"\").fetchall():\n",
    "# for rowid, data in conn.execute(\"\"\"SELECT * FROM measurements WHERE json_extract(data, '$.tag') = '20251028' AND json_extract(data, '$.in') = '[0.5,0.5,0.5]'\"\"\").fetchall():\n",
    "# for rowid, data in conn.execute(\"\"\"select * from measurements where json_extract(data, '$.tag') IS NOT NULL\"\"\").fetchall():\n",
    "    j = json.loads(data)\n",
    "    \n",
    "    R, G, B = j['in']\n",
    "    selected_outputs = ['445nm', '515nm', '630nm', 'clear']\n",
    "    out_values = [j['out'][key] for key in selected_outputs]\n",
    "    str_data_UnixTime = j['t0']\n",
    "    date = j['tag']\n",
    "    \n",
    "    day_of_year, time_of_day = convert_time(str_data_UnixTime)\n",
    "    weather_index, cloud_cover_percent = request_weather_cloud(str_data_UnixTime)\n",
    "    \n",
    "    flat_data = {\n",
    "        'R': R,\n",
    "        'G': G,\n",
    "        'B': B,\n",
    "        'day_of_year': day_of_year,\n",
    "        'time_of_day': time_of_day,\n",
    "        'weather_index': weather_index,\n",
    "        'cloud_cover_percent': cloud_cover_percent,\n",
    "        'I_445': out_values[0],\n",
    "        'I_515': out_values[1],\n",
    "        'I_630': out_values[2],\n",
    "        'I_clear': out_values[3],\n",
    "        'date': date, \n",
    "    }\n",
    "    df_oneRow = pd.DataFrame([flat_data])\n",
    "    \n",
    "    df = pd.concat([df, df_oneRow], ignore_index=True)\n",
    "\n",
    "print(df.shape)\n",
    "df.head(3)"
   ]
  },
  {
   "cell_type": "markdown",
   "id": "a073fd05",
   "metadata": {},
   "source": [
    "## Save data"
   ]
  },
  {
   "cell_type": "code",
   "execution_count": null,
   "id": "c653524a",
   "metadata": {},
   "outputs": [],
   "source": [
    "current_date = '20251028'\n",
    "time_period = '3'\n",
    "\n",
    "if True:\n",
    "    df.to_csv(f'data/data_{current_date}_{time_period}.csv', index=False)"
   ]
  },
  {
   "cell_type": "markdown",
   "id": "675492bd",
   "metadata": {},
   "source": [
    "## Merge all"
   ]
  },
  {
   "cell_type": "code",
   "execution_count": null,
   "id": "f1b96ccc",
   "metadata": {},
   "outputs": [],
   "source": [
    "df_full = pd.read_csv('data/data_full.csv')\n",
    "df_full = pd.concat([df_full, df])\n",
    "print(df_full.shape)\n",
    "df_full.head(2)"
   ]
  },
  {
   "cell_type": "code",
   "execution_count": null,
   "id": "dba9325b",
   "metadata": {},
   "outputs": [],
   "source": [
    "if False:\n",
    "    df_full.to_csv('data/data_full.csv', index=False)"
   ]
  }
 ],
 "metadata": {
  "kernelspec": {
   "display_name": "envfsepamolgen2",
   "language": "python",
   "name": "python3"
  },
  "language_info": {
   "codemirror_mode": {
    "name": "ipython",
    "version": 3
   },
   "file_extension": ".py",
   "mimetype": "text/x-python",
   "name": "python",
   "nbconvert_exporter": "python",
   "pygments_lexer": "ipython3",
   "version": "3.11.7"
  }
 },
 "nbformat": 4,
 "nbformat_minor": 5
}
