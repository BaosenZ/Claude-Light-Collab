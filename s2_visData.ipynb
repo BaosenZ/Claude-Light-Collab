{
 "cells": [
  {
   "cell_type": "code",
   "execution_count": 1,
   "id": "70d01874",
   "metadata": {},
   "outputs": [
    {
     "name": "stdout",
     "output_type": "stream",
     "text": [
      "(243, 12)\n"
     ]
    },
    {
     "data": {
      "text/html": [
       "<div>\n",
       "<style scoped>\n",
       "    .dataframe tbody tr th:only-of-type {\n",
       "        vertical-align: middle;\n",
       "    }\n",
       "\n",
       "    .dataframe tbody tr th {\n",
       "        vertical-align: top;\n",
       "    }\n",
       "\n",
       "    .dataframe thead th {\n",
       "        text-align: right;\n",
       "    }\n",
       "</style>\n",
       "<table border=\"1\" class=\"dataframe\">\n",
       "  <thead>\n",
       "    <tr style=\"text-align: right;\">\n",
       "      <th></th>\n",
       "      <th>R</th>\n",
       "      <th>G</th>\n",
       "      <th>B</th>\n",
       "      <th>day_of_year</th>\n",
       "      <th>time_of_day</th>\n",
       "      <th>weather_index</th>\n",
       "      <th>cloud_cover_percent</th>\n",
       "      <th>I_445</th>\n",
       "      <th>I_515</th>\n",
       "      <th>I_630</th>\n",
       "      <th>I_clear</th>\n",
       "      <th>date</th>\n",
       "    </tr>\n",
       "  </thead>\n",
       "  <tbody>\n",
       "    <tr>\n",
       "      <th>0</th>\n",
       "      <td>0.0</td>\n",
       "      <td>0.0</td>\n",
       "      <td>0.0</td>\n",
       "      <td>212</td>\n",
       "      <td>13.326</td>\n",
       "      <td>1</td>\n",
       "      <td>96</td>\n",
       "      <td>844</td>\n",
       "      <td>1689</td>\n",
       "      <td>2127</td>\n",
       "      <td>13266</td>\n",
       "      <td>20250731</td>\n",
       "    </tr>\n",
       "    <tr>\n",
       "      <th>1</th>\n",
       "      <td>0.9</td>\n",
       "      <td>0.5</td>\n",
       "      <td>0.6</td>\n",
       "      <td>212</td>\n",
       "      <td>13.911</td>\n",
       "      <td>1</td>\n",
       "      <td>100</td>\n",
       "      <td>19888</td>\n",
       "      <td>35221</td>\n",
       "      <td>30901</td>\n",
       "      <td>65535</td>\n",
       "      <td>20250731</td>\n",
       "    </tr>\n",
       "  </tbody>\n",
       "</table>\n",
       "</div>"
      ],
      "text/plain": [
       "     R    G    B  day_of_year  time_of_day  weather_index  \\\n",
       "0  0.0  0.0  0.0          212       13.326              1   \n",
       "1  0.9  0.5  0.6          212       13.911              1   \n",
       "\n",
       "   cloud_cover_percent  I_445  I_515  I_630  I_clear      date  \n",
       "0                   96    844   1689   2127    13266  20250731  \n",
       "1                  100  19888  35221  30901    65535  20250731  "
      ]
     },
     "execution_count": 1,
     "metadata": {},
     "output_type": "execute_result"
    }
   ],
   "source": [
    "import pandas as pd\n",
    "\n",
    "df = pd.read_csv('data/data_full.csv')\n",
    "print(df.shape)\n",
    "df.head(2)"
   ]
  },
  {
   "cell_type": "code",
   "execution_count": 2,
   "id": "127e9fa1",
   "metadata": {},
   "outputs": [
    {
     "data": {
      "text/plain": [
       "date\n",
       "20250729    110\n",
       "20250731     56\n",
       "20250801     52\n",
       "20251028     25\n",
       "Name: count, dtype: int64"
      ]
     },
     "execution_count": 2,
     "metadata": {},
     "output_type": "execute_result"
    }
   ],
   "source": [
    "df['date'].value_counts()"
   ]
  },
  {
   "cell_type": "code",
   "execution_count": null,
   "id": "26ca05bc",
   "metadata": {},
   "outputs": [],
   "source": [
    "# Draw plots at 0.5, 0.5, 0.5 at date to see the changes. \n"
   ]
  }
 ],
 "metadata": {
  "kernelspec": {
   "display_name": "envfsepamolgen2",
   "language": "python",
   "name": "python3"
  },
  "language_info": {
   "codemirror_mode": {
    "name": "ipython",
    "version": 3
   },
   "file_extension": ".py",
   "mimetype": "text/x-python",
   "name": "python",
   "nbconvert_exporter": "python",
   "pygments_lexer": "ipython3",
   "version": "3.11.7"
  }
 },
 "nbformat": 4,
 "nbformat_minor": 5
}
