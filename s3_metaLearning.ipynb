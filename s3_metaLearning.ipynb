{
 "cells": [
  {
   "cell_type": "code",
   "execution_count": 2,
   "id": "aa3f494a",
   "metadata": {},
   "outputs": [
    {
     "name": "stdout",
     "output_type": "stream",
     "text": [
      "(244, 12)\n"
     ]
    },
    {
     "data": {
      "text/html": [
       "<div>\n",
       "<style scoped>\n",
       "    .dataframe tbody tr th:only-of-type {\n",
       "        vertical-align: middle;\n",
       "    }\n",
       "\n",
       "    .dataframe tbody tr th {\n",
       "        vertical-align: top;\n",
       "    }\n",
       "\n",
       "    .dataframe thead th {\n",
       "        text-align: right;\n",
       "    }\n",
       "</style>\n",
       "<table border=\"1\" class=\"dataframe\">\n",
       "  <thead>\n",
       "    <tr style=\"text-align: right;\">\n",
       "      <th></th>\n",
       "      <th>R</th>\n",
       "      <th>G</th>\n",
       "      <th>B</th>\n",
       "      <th>day_of_year</th>\n",
       "      <th>time_of_day</th>\n",
       "      <th>weather_index</th>\n",
       "      <th>cloud_cover_percent</th>\n",
       "      <th>I_445</th>\n",
       "      <th>I_515</th>\n",
       "      <th>I_630</th>\n",
       "      <th>I_clear</th>\n",
       "      <th>date</th>\n",
       "    </tr>\n",
       "  </thead>\n",
       "  <tbody>\n",
       "    <tr>\n",
       "      <th>0</th>\n",
       "      <td>0.0</td>\n",
       "      <td>0.0</td>\n",
       "      <td>0.0</td>\n",
       "      <td>212</td>\n",
       "      <td>13.326</td>\n",
       "      <td>1</td>\n",
       "      <td>96</td>\n",
       "      <td>844</td>\n",
       "      <td>1689</td>\n",
       "      <td>2127</td>\n",
       "      <td>13266</td>\n",
       "      <td>20250731</td>\n",
       "    </tr>\n",
       "    <tr>\n",
       "      <th>1</th>\n",
       "      <td>0.9</td>\n",
       "      <td>0.5</td>\n",
       "      <td>0.6</td>\n",
       "      <td>212</td>\n",
       "      <td>13.911</td>\n",
       "      <td>1</td>\n",
       "      <td>100</td>\n",
       "      <td>19888</td>\n",
       "      <td>35221</td>\n",
       "      <td>30901</td>\n",
       "      <td>65535</td>\n",
       "      <td>20250731</td>\n",
       "    </tr>\n",
       "  </tbody>\n",
       "</table>\n",
       "</div>"
      ],
      "text/plain": [
       "     R    G    B  day_of_year  time_of_day  weather_index  \\\n",
       "0  0.0  0.0  0.0          212       13.326              1   \n",
       "1  0.9  0.5  0.6          212       13.911              1   \n",
       "\n",
       "   cloud_cover_percent  I_445  I_515  I_630  I_clear      date  \n",
       "0                   96    844   1689   2127    13266  20250731  \n",
       "1                  100  19888  35221  30901    65535  20250731  "
      ]
     },
     "execution_count": 2,
     "metadata": {},
     "output_type": "execute_result"
    }
   ],
   "source": [
    "import pandas as pd\n",
    "\n",
    "df = pd.read_csv('data/data_full.csv')\n",
    "print(df.shape)\n",
    "df.head(2)"
   ]
  },
  {
   "cell_type": "code",
   "execution_count": 3,
   "id": "7934d856",
   "metadata": {},
   "outputs": [
    {
     "data": {
      "text/plain": [
       "date\n",
       "20250729    110\n",
       "20250731     56\n",
       "20250801     52\n",
       "20251028     26\n",
       "Name: count, dtype: int64"
      ]
     },
     "execution_count": 3,
     "metadata": {},
     "output_type": "execute_result"
    }
   ],
   "source": [
    "df['date'].value_counts()"
   ]
  },
  {
   "cell_type": "markdown",
   "id": "21588759",
   "metadata": {},
   "source": [
    "## Split data"
   ]
  },
  {
   "cell_type": "code",
   "execution_count": 7,
   "id": "c4bb897f",
   "metadata": {},
   "outputs": [
    {
     "name": "stdout",
     "output_type": "stream",
     "text": [
      "(166, 12)\n"
     ]
    },
    {
     "data": {
      "text/html": [
       "<div>\n",
       "<style scoped>\n",
       "    .dataframe tbody tr th:only-of-type {\n",
       "        vertical-align: middle;\n",
       "    }\n",
       "\n",
       "    .dataframe tbody tr th {\n",
       "        vertical-align: top;\n",
       "    }\n",
       "\n",
       "    .dataframe thead th {\n",
       "        text-align: right;\n",
       "    }\n",
       "</style>\n",
       "<table border=\"1\" class=\"dataframe\">\n",
       "  <thead>\n",
       "    <tr style=\"text-align: right;\">\n",
       "      <th></th>\n",
       "      <th>R</th>\n",
       "      <th>G</th>\n",
       "      <th>B</th>\n",
       "      <th>day_of_year</th>\n",
       "      <th>time_of_day</th>\n",
       "      <th>weather_index</th>\n",
       "      <th>cloud_cover_percent</th>\n",
       "      <th>I_445</th>\n",
       "      <th>I_515</th>\n",
       "      <th>I_630</th>\n",
       "      <th>I_clear</th>\n",
       "      <th>date</th>\n",
       "    </tr>\n",
       "  </thead>\n",
       "  <tbody>\n",
       "    <tr>\n",
       "      <th>0</th>\n",
       "      <td>0.0</td>\n",
       "      <td>0.0</td>\n",
       "      <td>0.0</td>\n",
       "      <td>212</td>\n",
       "      <td>13.326</td>\n",
       "      <td>1</td>\n",
       "      <td>96</td>\n",
       "      <td>844</td>\n",
       "      <td>1689</td>\n",
       "      <td>2127</td>\n",
       "      <td>13266</td>\n",
       "      <td>20250731</td>\n",
       "    </tr>\n",
       "    <tr>\n",
       "      <th>1</th>\n",
       "      <td>0.9</td>\n",
       "      <td>0.5</td>\n",
       "      <td>0.6</td>\n",
       "      <td>212</td>\n",
       "      <td>13.911</td>\n",
       "      <td>1</td>\n",
       "      <td>100</td>\n",
       "      <td>19888</td>\n",
       "      <td>35221</td>\n",
       "      <td>30901</td>\n",
       "      <td>65535</td>\n",
       "      <td>20250731</td>\n",
       "    </tr>\n",
       "  </tbody>\n",
       "</table>\n",
       "</div>"
      ],
      "text/plain": [
       "     R    G    B  day_of_year  time_of_day  weather_index  \\\n",
       "0  0.0  0.0  0.0          212       13.326              1   \n",
       "1  0.9  0.5  0.6          212       13.911              1   \n",
       "\n",
       "   cloud_cover_percent  I_445  I_515  I_630  I_clear      date  \n",
       "0                   96    844   1689   2127    13266  20250731  \n",
       "1                  100  19888  35221  30901    65535  20250731  "
      ]
     },
     "execution_count": 7,
     "metadata": {},
     "output_type": "execute_result"
    }
   ],
   "source": [
    "df_train = df[(df['date'] != 20250801) &\n",
    "              (df['date'] != 20251028)]\n",
    "print(df_train.shape)\n",
    "df_train.head(2)"
   ]
  },
  {
   "cell_type": "code",
   "execution_count": 8,
   "id": "8b785b8b",
   "metadata": {},
   "outputs": [
    {
     "name": "stdout",
     "output_type": "stream",
     "text": [
      "(78, 12)\n"
     ]
    },
    {
     "data": {
      "text/html": [
       "<div>\n",
       "<style scoped>\n",
       "    .dataframe tbody tr th:only-of-type {\n",
       "        vertical-align: middle;\n",
       "    }\n",
       "\n",
       "    .dataframe tbody tr th {\n",
       "        vertical-align: top;\n",
       "    }\n",
       "\n",
       "    .dataframe thead th {\n",
       "        text-align: right;\n",
       "    }\n",
       "</style>\n",
       "<table border=\"1\" class=\"dataframe\">\n",
       "  <thead>\n",
       "    <tr style=\"text-align: right;\">\n",
       "      <th></th>\n",
       "      <th>R</th>\n",
       "      <th>G</th>\n",
       "      <th>B</th>\n",
       "      <th>day_of_year</th>\n",
       "      <th>time_of_day</th>\n",
       "      <th>weather_index</th>\n",
       "      <th>cloud_cover_percent</th>\n",
       "      <th>I_445</th>\n",
       "      <th>I_515</th>\n",
       "      <th>I_630</th>\n",
       "      <th>I_clear</th>\n",
       "      <th>date</th>\n",
       "    </tr>\n",
       "  </thead>\n",
       "  <tbody>\n",
       "    <tr>\n",
       "      <th>6</th>\n",
       "      <td>0.0</td>\n",
       "      <td>0.0</td>\n",
       "      <td>0.0</td>\n",
       "      <td>213</td>\n",
       "      <td>13.491</td>\n",
       "      <td>1</td>\n",
       "      <td>37</td>\n",
       "      <td>1019</td>\n",
       "      <td>1893</td>\n",
       "      <td>2197</td>\n",
       "      <td>16726</td>\n",
       "      <td>20250801</td>\n",
       "    </tr>\n",
       "    <tr>\n",
       "      <th>7</th>\n",
       "      <td>0.4</td>\n",
       "      <td>0.2</td>\n",
       "      <td>0.6</td>\n",
       "      <td>213</td>\n",
       "      <td>13.496</td>\n",
       "      <td>1</td>\n",
       "      <td>37</td>\n",
       "      <td>19354</td>\n",
       "      <td>15527</td>\n",
       "      <td>14892</td>\n",
       "      <td>50879</td>\n",
       "      <td>20250801</td>\n",
       "    </tr>\n",
       "  </tbody>\n",
       "</table>\n",
       "</div>"
      ],
      "text/plain": [
       "     R    G    B  day_of_year  time_of_day  weather_index  \\\n",
       "6  0.0  0.0  0.0          213       13.491              1   \n",
       "7  0.4  0.2  0.6          213       13.496              1   \n",
       "\n",
       "   cloud_cover_percent  I_445  I_515  I_630  I_clear      date  \n",
       "6                   37   1019   1893   2197    16726  20250801  \n",
       "7                   37  19354  15527  14892    50879  20250801  "
      ]
     },
     "execution_count": 8,
     "metadata": {},
     "output_type": "execute_result"
    }
   ],
   "source": [
    "df_test = df[~((df['date'] != 20250801) &\n",
    "              (df['date'] != 20251028))]\n",
    "print(df_test.shape)\n",
    "df_test.head(2)"
   ]
  },
  {
   "cell_type": "code",
   "execution_count": 9,
   "id": "4e40cfa1",
   "metadata": {},
   "outputs": [],
   "source": [
    "# Save split data\n",
    "\n",
    "if True:\n",
    "    df_train.to_csv('data_split/data_train.csv', index=False)\n",
    "    df_test.to_csv('data_split/data_test.csv', index=False)"
   ]
  },
  {
   "cell_type": "markdown",
   "id": "dcd84749",
   "metadata": {},
   "source": [
    "## Meta-learning"
   ]
  },
  {
   "cell_type": "code",
   "execution_count": 10,
   "id": "b94e1466",
   "metadata": {},
   "outputs": [],
   "source": [
    "import numpy as np\n",
    "from sklearn.preprocessing import StandardScaler\n",
    "from sklearn.metrics import r2_score"
   ]
  },
  {
   "cell_type": "code",
   "execution_count": 11,
   "id": "e30c5867",
   "metadata": {},
   "outputs": [
    {
     "name": "stdout",
     "output_type": "stream",
     "text": [
      "Total days (tasks): 2\n"
     ]
    }
   ],
   "source": [
    "# Split tasks and \n",
    "\n",
    "X_cols = ['R', 'G', 'B', 'day_of_year', 'time_of_day', 'weather_index', 'cloud_cover_percent']\n",
    "Y_cols = ['I_445', 'I_515', 'I_630', 'I_clear']\n",
    "\n",
    "grouped_by_date = df_train.groupby('date')\n",
    "\n",
    "tasks = []\n",
    "for day, df_day in grouped_by_date:\n",
    "    X_day = df_day[X_cols].to_numpy()\n",
    "    Y_day = df_day[Y_cols].to_numpy()\n",
    "    if len(X_day) < 10:\n",
    "        continue\n",
    "    tasks.append((day, X_day, Y_day))\n",
    "\n",
    "print(f\"Total days (tasks): {len(tasks)}\")"
   ]
  },
  {
   "cell_type": "code",
   "execution_count": 12,
   "id": "9da7d5f8",
   "metadata": {},
   "outputs": [],
   "source": [
    "# Scale data\n",
    "\n",
    "X_all = df_train[X_cols].to_numpy()\n",
    "Y_all = df_train[Y_cols].to_numpy()\n",
    "\n",
    "X_scaler = StandardScaler()\n",
    "Y_scaler = StandardScaler()\n",
    "\n",
    "X_all_scaled = X_scaler.fit_transform(X_all)\n",
    "Y_all_scaled = Y_scaler.fit_transform(Y_all)\n",
    "\n",
    "tasks_scaled = []\n",
    "for day, _, _ in tasks:\n",
    "    mask = df_train['date'] == day\n",
    "    X_day = X_all_scaled[mask.to_numpy()]\n",
    "    Y_day = Y_all_scaled[mask.to_numpy()]\n",
    "    tasks_scaled.append((day, X_day, Y_day))"
   ]
  },
  {
   "cell_type": "code",
   "execution_count": 13,
   "id": "cc3d21de",
   "metadata": {},
   "outputs": [
    {
     "name": "stdout",
     "output_type": "stream",
     "text": [
      "Iter 000 | Meta-loss: 1.016511\n",
      "Iter 050 | Meta-loss: 1.175409\n",
      "Iter 100 | Meta-loss: 0.724395\n",
      "Iter 150 | Meta-loss: 0.422492\n",
      "Iter 200 | Meta-loss: 0.310789\n",
      "Iter 250 | Meta-loss: 0.288091\n",
      "Iter 300 | Meta-loss: 0.282872\n",
      "Iter 350 | Meta-loss: 0.196464\n",
      "Iter 400 | Meta-loss: 0.229807\n",
      "Iter 450 | Meta-loss: 0.127480\n"
     ]
    }
   ],
   "source": [
    "# Meta-learning config and loop\n",
    "\n",
    "np.random.seed(0)\n",
    "input_dim = len(X_cols)\n",
    "output_dim = len(Y_cols)\n",
    "k_shot = 10\n",
    "meta_lr = 0.001\n",
    "inner_lr = 0.005\n",
    "meta_iters = 500\n",
    "\n",
    "W_meta = np.random.randn(output_dim, input_dim) * 0.01\n",
    "b_meta = np.zeros(output_dim)\n",
    "\n",
    "for meta_iter in range(meta_iters):\n",
    "    dW_meta = np.zeros_like(W_meta)\n",
    "    db_meta = np.zeros_like(b_meta)\n",
    "    \n",
    "    for day, X_day, Y_day in tasks_scaled:\n",
    "        n = len(X_day)\n",
    "        if n < k_shot * 2:\n",
    "            continue  # skip days with too few samples\n",
    "        \n",
    "        # Randomly sample train/val split within this day\n",
    "        idx = np.random.permutation(n)\n",
    "        idx_train = idx[:k_shot]\n",
    "        idx_val = idx[k_shot:2*k_shot]\n",
    "        \n",
    "        X_train, Y_train = X_day[idx_train], Y_day[idx_train]\n",
    "        X_val, Y_val = X_day[idx_val], Y_day[idx_val]\n",
    "        \n",
    "        # Inner adaptation\n",
    "        Y_pred = X_train @ W_meta.T + b_meta\n",
    "        grad_W = (2 / k_shot) * (Y_pred - Y_train).T @ X_train\n",
    "        grad_b = (2 / k_shot) * np.sum(Y_pred - Y_train, axis=0)\n",
    "        W_task = W_meta - inner_lr * grad_W\n",
    "        b_task = b_meta - inner_lr * grad_b\n",
    "        \n",
    "        # Outer evaluation\n",
    "        Y_val_pred = X_val @ W_task.T + b_task\n",
    "        grad_W_meta = (2 / k_shot) * (Y_val_pred - Y_val).T @ X_val\n",
    "        grad_b_meta = (2 / k_shot) * np.sum(Y_val_pred - Y_val, axis=0)\n",
    "        \n",
    "        dW_meta += grad_W_meta\n",
    "        db_meta += grad_b_meta\n",
    "    \n",
    "    # Meta-update\n",
    "    W_meta -= meta_lr * dW_meta / len(tasks_scaled)\n",
    "    b_meta -= meta_lr * db_meta / len(tasks_scaled)\n",
    "    \n",
    "    if meta_iter % 50 == 0:\n",
    "        loss_meta = np.mean((Y_val_pred - Y_val)**2)\n",
    "        print(f\"Iter {meta_iter:03d} | Meta-loss: {loss_meta:.6f}\")"
   ]
  },
  {
   "cell_type": "code",
   "execution_count": null,
   "id": "6971b9ef",
   "metadata": {},
   "outputs": [],
   "source": [
    "print(\"W_meta: \", W_meta)\n",
    "print(\"b_meta: \", b_meta)"
   ]
  },
  {
   "cell_type": "markdown",
   "id": "67a68f86",
   "metadata": {},
   "source": [
    "## Predition"
   ]
  },
  {
   "cell_type": "code",
   "execution_count": null,
   "id": "16d8e216",
   "metadata": {},
   "outputs": [
    {
     "name": "stdout",
     "output_type": "stream",
     "text": [
      "Day 20250801 | samples=52 | few-shot=10\n",
      "R2 before: {'I_445': 0.824, 'I_515': 0.773, 'I_630': 0.716, 'I_clear': 0.086}\n",
      "R2 after : {'I_445': 0.866, 'I_515': 0.874, 'I_630': 0.812, 'I_clear': 0.697}\n",
      "Day 20251028 | samples=26 | few-shot=10\n",
      "R2 before: {'I_445': -212.146, 'I_515': -278.795, 'I_630': -367.93, 'I_clear': -2323.905}\n",
      "R2 after : {'I_445': -179818226.269, 'I_515': -235985591.429, 'I_630': -312633645.406, 'I_clear': -1953234877.565}\n",
      "\n",
      "=============================\n",
      "Average per-channel R2 before adaptation:\n",
      "{'I_445': -105.661, 'I_515': -139.011, 'I_630': -183.607, 'I_clear': -1161.91}\n",
      "\n",
      "Average per-channel R2 after adaptation:\n",
      "{'I_445': -89909112.702, 'I_515': -117992795.278, 'I_630': -156316822.297, 'I_clear': -976617438.434}\n"
     ]
    }
   ],
   "source": [
    "np.random.seed(42)\n",
    "k_shot = 10        \n",
    "inner_lr = 0.05\n",
    "\n",
    "test_days = sorted(df_test['date'].unique())\n",
    "\n",
    "results = []\n",
    "\n",
    "for day_target in test_days:\n",
    "    df_target = df_test[df_test['date'] == day_target]\n",
    "    if len(df_target) < 10:\n",
    "        continue  # skip very small days\n",
    "\n",
    "    X_target = df_target[X_cols].to_numpy()\n",
    "    Y_target = df_target[Y_cols].to_numpy()\n",
    "    X_target_scaled = X_scaler.transform(X_target)\n",
    "    Y_target_scaled = Y_scaler.transform(Y_target)\n",
    "\n",
    "    # Split into few-shot\n",
    "    nT = len(X_target_scaled)\n",
    "    # k = min(k_shot, nT // 2)\n",
    "    k = 10\n",
    "    idx = np.random.choice(nT, size=k, replace=False)\n",
    "    mask = np.ones(nT, dtype=bool)\n",
    "    mask[idx] = False\n",
    "    X_adapt, Y_adapt = X_target_scaled[idx], Y_target_scaled[idx]\n",
    "    X_eval,  Y_eval  = X_target_scaled[mask], Y_target_scaled[mask]\n",
    "\n",
    "    # BEFORE ADAPTATION\n",
    "    Y_pred_before_scaled = X_eval @ W_meta.T + b_meta\n",
    "    Y_pred_before = Y_scaler.inverse_transform(Y_pred_before_scaled)\n",
    "    Y_eval_orig   = Y_scaler.inverse_transform(Y_eval)\n",
    "\n",
    "    r2_before = [r2_score(Y_eval_orig[:, i], Y_pred_before[:, i]) for i in range(len(Y_cols))]\n",
    "\n",
    "    # AFTER ADAPTATION\n",
    "    Y_pred_adapt = X_adapt @ W_meta.T + b_meta\n",
    "    grad_W = (2 / len(X_adapt)) * (Y_pred_adapt - Y_adapt).T @ X_adapt\n",
    "    grad_b = (2 / len(X_adapt)) * np.sum(Y_pred_adapt - Y_adapt, axis=0)\n",
    "    W_adapt = W_meta - inner_lr * grad_W\n",
    "    b_adapt = b_meta - inner_lr * grad_b\n",
    "\n",
    "    Y_pred_after_scaled = X_eval @ W_adapt.T + b_adapt\n",
    "    Y_pred_after = Y_scaler.inverse_transform(Y_pred_after_scaled)\n",
    "\n",
    "    r2_after = [r2_score(Y_eval_orig[:, i], Y_pred_after[:, i]) for i in range(len(Y_cols))]\n",
    "\n",
    "    results.append({\n",
    "        'day': day_target,\n",
    "        'r2_before': r2_before,\n",
    "        'r2_after': r2_after,\n",
    "    })\n",
    "\n",
    "    print(f\"\\nDay {day_target} | samples={nT} | few-shot={k}\")\n",
    "    print(\"R2 before:\", dict(zip(Y_cols, np.round(r2_before, 3))))\n",
    "    print(\"R2 after :\", dict(zip(Y_cols, np.round(r2_after, 3))))\n",
    "\n",
    "# Average R2 across all test days per channel\n",
    "r2_before_all = np.array([r['r2_before'] for r in results])\n",
    "r2_after_all  = np.array([r['r2_after']  for r in results])\n",
    "\n",
    "avg_r2_before = np.mean(r2_before_all, axis=0)\n",
    "avg_r2_after  = np.mean(r2_after_all, axis=0)\n",
    "\n",
    "print(\"\\n=============================\")\n",
    "print(\"Average per-channel R2 before adaptation:\")\n",
    "print(dict(zip(Y_cols, np.round(avg_r2_before, 3))))\n",
    "print(\"\\nAverage per-channel R2 after adaptation:\")\n",
    "print(dict(zip(Y_cols, np.round(avg_r2_after, 3))))"
   ]
  },
  {
   "cell_type": "code",
   "execution_count": null,
   "id": "9338723e",
   "metadata": {},
   "outputs": [
    {
     "name": "stdout",
     "output_type": "stream",
     "text": [
      "W_meta:  [[-0.01727829  0.01357206  0.61136076  0.17424041  0.05535115 -0.05256341\n",
      "  -0.01322251]\n",
      " [ 0.00756919  0.60760504  0.01438849  0.17478587  0.03569596 -0.04851973\n",
      "  -0.00532481]\n",
      " [ 0.51837755  0.03940016  0.00249201  0.16443779 -0.15648455 -0.11325757\n",
      "  -0.06984775]\n",
      " [ 0.13385861  0.33982573  0.21116225  0.30680038 -0.02077189 -0.12920447\n",
      "  -0.09180634]]\n",
      "b_meta:  [0.02671844 0.02445574 0.02161306 0.04452738]\n",
      "\n",
      "=============================\n",
      "W_adapt:  [[-1.31124403e+00  8.80015154e-02 -1.64868318e-02 -1.59110315e+02\n",
      "   1.72494365e+00  4.78613402e+00  2.15515232e+00]\n",
      " [-1.29160620e+00  6.94196573e-01 -6.68681811e-01 -1.61310789e+02\n",
      "   1.72977246e+00  4.85703959e+00  2.19287197e+00]\n",
      " [-6.97826448e-01  1.04792662e-01 -6.72035972e-01 -1.54363202e+02\n",
      "   1.46387869e+00  4.58093573e+00  2.03371245e+00]\n",
      " [-2.15593756e+00  4.85353187e-01 -9.75385990e-01 -2.84770603e+02\n",
      "   2.96896431e+00  8.53078953e+00  3.78885475e+00]]\n",
      "b_adapt:  [-1.64082253 -1.66612757 -1.59612804 -2.93993177]\n"
     ]
    }
   ],
   "source": [
    "print(\"Latest adapt: \")\n",
    "print(\"W_adapt: \", W_adapt)\n",
    "print(\"b_adapt: \", b_adapt)"
   ]
  },
  {
   "cell_type": "markdown",
   "id": "2024bb00",
   "metadata": {},
   "source": [
    "## Vis results"
   ]
  },
  {
   "cell_type": "code",
   "execution_count": 16,
   "id": "5fca92ac",
   "metadata": {},
   "outputs": [
    {
     "data": {
      "text/plain": [
       "array([[18729., 14381., 16374., 44478.],\n",
       "       [24921., 14313., 19206., 52824.],\n",
       "       [ 3789., 26574.,  7338., 33901.],\n",
       "       [16112., 65340., 17163., 65535.],\n",
       "       [  730., 27069., 27667., 47611.],\n",
       "       [21708., 14213., 16266., 46780.],\n",
       "       [25003., 33493., 28437., 65535.],\n",
       "       [25002., 33030., 10790., 60131.],\n",
       "       [19249., 65511., 32095., 65535.],\n",
       "       [30910.,  8148., 25044., 57764.],\n",
       "       [24879.,  1626., 25423., 48858.],\n",
       "       [27965., 26879.,  8512., 57282.],\n",
       "       [ 3788., 13932., 13620., 30249.],\n",
       "       [ 4034., 46029., 28816., 65535.],\n",
       "       [ 3941., 39171., 11274., 48319.],\n",
       "       [21750.,  8281., 16832., 44740.]])"
      ]
     },
     "execution_count": 16,
     "metadata": {},
     "output_type": "execute_result"
    }
   ],
   "source": [
    "Y_eval_orig"
   ]
  },
  {
   "cell_type": "code",
   "execution_count": 21,
   "id": "295e199d",
   "metadata": {},
   "outputs": [
    {
     "data": {
      "text/plain": [
       "array([[-1.32924664e+08, -2.85928221e+08, -1.35093663e+08,\n",
       "        -4.73892169e+08],\n",
       "       [-1.32928607e+08, -2.85945050e+08, -1.35100171e+08,\n",
       "        -4.73916802e+08],\n",
       "       [-1.32912312e+08, -2.85873045e+08, -1.35075620e+08,\n",
       "        -4.73818255e+08],\n",
       "       [-1.32922430e+08, -2.85887711e+08, -1.35088766e+08,\n",
       "        -4.73862378e+08],\n",
       "       [-1.32939158e+08, -2.85924850e+08, -1.35088418e+08,\n",
       "        -4.73900308e+08],\n",
       "       [-1.32924649e+08, -2.85932482e+08, -1.35095789e+08,\n",
       "        -4.73897970e+08],\n",
       "       [-1.32939246e+08, -2.85955451e+08, -1.35105513e+08,\n",
       "        -4.73945404e+08],\n",
       "       [-1.32916146e+08, -2.85907175e+08, -1.35092630e+08,\n",
       "        -4.73869746e+08],\n",
       "       [-1.32941623e+08, -2.85932113e+08, -1.35101590e+08,\n",
       "        -4.73931084e+08],\n",
       "       [-1.32936533e+08, -2.85974143e+08, -1.35109041e+08,\n",
       "        -4.73956539e+08],\n",
       "       [-1.32936678e+08, -2.85969797e+08, -1.35104988e+08,\n",
       "        -4.73947363e+08],\n",
       "       [-1.32912559e+08, -2.85907916e+08, -1.35092952e+08,\n",
       "        -4.73865928e+08],\n",
       "       [-1.32920376e+08, -2.85897776e+08, -1.35080431e+08,\n",
       "        -4.73848790e+08],\n",
       "       [-1.32938246e+08, -2.85915405e+08, -1.35089458e+08,\n",
       "        -4.73896933e+08],\n",
       "       [-1.32915422e+08, -2.85871650e+08, -1.35076916e+08,\n",
       "        -4.73824257e+08],\n",
       "       [-1.32924763e+08, -2.85936657e+08, -1.35095987e+08,\n",
       "        -4.73900396e+08]])"
      ]
     },
     "execution_count": 21,
     "metadata": {},
     "output_type": "execute_result"
    }
   ],
   "source": [
    "Y_pred_after"
   ]
  },
  {
   "cell_type": "code",
   "execution_count": null,
   "id": "c5042a61",
   "metadata": {},
   "outputs": [
    {
     "data": {
      "image/png": "[encoded data removed]",
      "text/plain": [
       "<Figure size 1200x1000 with 4 Axes>"
      ]
     },
     "metadata": {},
     "output_type": "display_data"
    }
   ],
   "source": [
    "import matplotlib.pyplot as plt\n",
    "import numpy as np\n",
    "\n",
    "true_cols = ['I_445', 'I_515', 'I_630', 'I_clear']\n",
    "\n",
    "# Ensure arrays are numpy arrays\n",
    "Y_eval_orig = np.array(Y_eval_orig)\n",
    "Y_pred_after = np.array(Y_pred_after)\n",
    "\n",
    "fig, axes = plt.subplots(2, 2, figsize=(12, 10))\n",
    "axes = axes.flatten()\n",
    "\n",
    "for i, col in enumerate(true_cols):\n",
    "    ax = axes[i]\n",
    "    ax.scatter(\n",
    "        Y_eval_orig[:, i],\n",
    "        Y_pred_after[:, i],\n",
    "        alpha=0.6,\n",
    "        edgecolor='gray',\n",
    "        linewidth=0.5,\n",
    "        s=40\n",
    "    )\n",
    "\n",
    "    # Parity line\n",
    "    min_val = min(Y_eval_orig[:, i].min(), Y_pred_after[:, i].min())\n",
    "    max_val = max(Y_eval_orig[:, i].max(), Y_pred_after[:, i].max())\n",
    "    ax.plot([min_val, max_val], [min_val, max_val], 'k--', linewidth=1)\n",
    "\n",
    "    # Labels and titles\n",
    "    ax.set_title(f\"{col} Prediction vs Truth\", fontsize=12, fontweight='bold')\n",
    "    ax.set_xlabel(\"True Intensity\", fontsize=10, fontweight='bold')\n",
    "    ax.set_ylabel(\"Predicted Intensity\", fontsize=10, fontweight='bold')\n",
    "\n",
    "    ax.grid(alpha=0.3)\n",
    "\n",
    "plt.tight_layout()\n",
    "plt.show()\n"
   ]
  }
 ],
 "metadata": {
  "kernelspec": {
   "display_name": "envfsepamolgen2",
   "language": "python",
   "name": "python3"
  },
  "language_info": {
   "codemirror_mode": {
    "name": "ipython",
    "version": 3
   },
   "file_extension": ".py",
   "mimetype": "text/x-python",
   "name": "python",
   "nbconvert_exporter": "python",
   "pygments_lexer": "ipython3",
   "version": "3.11.7"
  }
 },
 "nbformat": 4,
 "nbformat_minor": 5
}
