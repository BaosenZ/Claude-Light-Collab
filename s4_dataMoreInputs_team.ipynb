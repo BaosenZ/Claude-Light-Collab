{
 "cells": [
  {
   "cell_type": "code",
   "execution_count": 24,
   "id": "da744b5c",
   "metadata": {},
   "outputs": [
    {
     "data": {
      "text/plain": [
       "True"
      ]
     },
     "execution_count": 24,
     "metadata": {},
     "output_type": "execute_result"
    }
   ],
   "source": [
    "import os\n",
    "import libsql\n",
    "import json\n",
    "import pandas as pd\n",
    "import requests\n",
    "from dotenv import load_dotenv\n",
    "\n",
    "load_dotenv()"
   ]
  },
  {
   "cell_type": "code",
   "execution_count": 25,
   "id": "a745751c",
   "metadata": {},
   "outputs": [],
   "source": [
    "from datetime import datetime\n",
    "from zoneinfo import ZoneInfo\n",
    "\n",
    "def convert_time(str_data_UnixTime):\n",
    "    dt_data = datetime.fromtimestamp(float(str_data_UnixTime), ZoneInfo(\"America/New_York\"))\n",
    "    day_of_year = int(dt_data.timetuple().tm_yday)\n",
    "    time_of_day = round(float(dt_data.hour + dt_data.minute/60 + dt_data.second/3600), 3)\n",
    "    return day_of_year, time_of_day"
   ]
  },
  {
   "cell_type": "code",
   "execution_count": 26,
   "id": "1afbcd18",
   "metadata": {},
   "outputs": [],
   "source": [
    "OPEN_WEATHER_MAP_KEY = os.getenv('OPEN_WEATHER_MAP_KEY')\n",
    "\n",
    "def request_weather_cloud(str_data_UnixTime):\n",
    "    # Get Pittsburgh Coordinates\n",
    "    lat = 40.4406\n",
    "    lon = -79.9959\n",
    "    \n",
    "    # Call weather API\n",
    "    url = \"https://api.openweathermap.org/data/3.0/onecall/timemachine\"\n",
    "    params = {\n",
    "        \"lat\": lat,\n",
    "        \"lon\": lon,\n",
    "        \"dt\": int(str_data_UnixTime),\n",
    "        \"appid\": OPEN_WEATHER_MAP_KEY,\n",
    "    }\n",
    "    response = requests.get(url, params=params)\n",
    "    data = response.json()\n",
    "    weather_main = data['data'][0]['weather'][0]['main']\n",
    "    cloud_cover_percent = data['data'][0]['clouds']\n",
    "    \n",
    "    # Convert weather to int\n",
    "    # Get weather conditions from website\n",
    "    list_weather_classes = ['Clear', 'Clouds', 'Rain', 'Snow', 'Drizzle',\n",
    "                   'Thunderstorm', 'Mist', 'Fog', 'Haze']\n",
    "    dict_weather_classes_index = {label: idx for idx, label in enumerate(list_weather_classes)}\n",
    "    weather_index = dict_weather_classes_index.get(weather_main, -1)\n",
    "\n",
    "    # print(\"Weather:\", weather_main)\n",
    "    # print(\"Cloud Cover (%):\", cloud_cover_percent)\n",
    "    return weather_index, cloud_cover_percent"
   ]
  },
  {
   "cell_type": "markdown",
   "id": "58f8ad6e",
   "metadata": {},
   "source": [
    "### JS data"
   ]
  },
  {
   "cell_type": "code",
   "execution_count": 27,
   "id": "083e2ef5",
   "metadata": {},
   "outputs": [],
   "source": [
    "url_js = os.getenv(\"CLAUDELIGHT_DB_URL_JS\")\n",
    "auth_token_js = os.getenv(\"CLAUDELIGHT_RO_JS\")\n",
    "conn_js = libsql.connect(\"claude_light_js.db\", sync_url=url_js, auth_token=auth_token_js)\n",
    "conn_js.sync()"
   ]
  },
  {
   "cell_type": "code",
   "execution_count": 28,
   "id": "5ce70700",
   "metadata": {},
   "outputs": [
    {
     "name": "stdout",
     "output_type": "stream",
     "text": [
      "Tables in database:\n",
      "measurements\n"
     ]
    }
   ],
   "source": [
    "cursor = conn_js.cursor()\n",
    "cursor.execute(\"SELECT name FROM sqlite_master WHERE type='table';\")\n",
    "tables = cursor.fetchall()\n",
    "\n",
    "print(\"Tables in database:\")\n",
    "for t in tables:\n",
    "    print(t[0])"
   ]
  },
  {
   "cell_type": "code",
   "execution_count": 29,
   "id": "d11dc501",
   "metadata": {},
   "outputs": [
    {
     "name": "stdout",
     "output_type": "stream",
     "text": [
      "3\n"
     ]
    },
    {
     "data": {
      "text/plain": [
       "[(1,\n",
       "  '{\\n\\t\"version\":\"15b32d0bbac2b03ca3f7817ea783556955f907af426e1c1cd0ce18d18551dadc\",\\n\\t\"func\":\"measurementJSON[{r_, g_, b_}, tag_:Null] := With[{meta = metadata[\\\\\"measurementJSON\\\\\", \\\\\"tutorial\\\\\"], data = measurement[{r, g, b}]}, ExportString[Join[meta, data], \\\\\"JSON\\\\\", \\\\\"Compact\\\\\" -> 1]]\\\\n \\\\nmetadata[versionedFunction_String, tag_:Null] := With[{functionCode = ToString[InputForm[FullDefinition[versionedFunction]]]}, {\\\\\"version\\\\\" -> Hash[functionCode, \\\\\"SHA256\\\\\", \\\\\"HexString\\\\\"], \\\\\"func\\\\\" -> functionCode, \\\\\"t0\\\\\" -> AbsoluteTime[], \\\\\"user\\\\\" -> $Username, \\\\\"hostname\\\\\" -> $MachineName, \\\\\"tag\\\\\" -> tag}]\\\\n \\\\nmeasurement[{r_, g_, b_}] := URLExecute[\\\\\"https:\\\\/\\\\/claude-light.cheme.cmu.edu\\\\/api\\\\\", {\\\\\"R\\\\\" -> r, \\\\\"G\\\\\" -> g, \\\\\"B\\\\\" -> b}]\",\\n\\t\"t0\":3.962965456853578e9,\\n\\t\"user\":\"jschrier\",\\n\\t\"hostname\":\"jschrier-laptop\",\\n\\t\"tag\":\"tutorial\",\\n\\t\"in\":[0.1,0.2,0.3],\\n\\t\"out\":{\"415nm\":937,\"445nm\":9974,\"480nm\":5835,\"515nm\":14290,\"555nm\":3535,\"590nm\":3573,\"630nm\":5151,\"680nm\":2314,\"clear\":30842,\"nir\":4111}\\n}'),\n",
       " (2,\n",
       "  '{\\n\\t\"version\":\"15b32d0bbac2b03ca3f7817ea783556955f907af426e1c1cd0ce18d18551dadc\",\\n\\t\"func\":\"measurementJSON[{r_, g_, b_}, tag_:Null] := With[{meta = metadata[\\\\\"measurementJSON\\\\\", \\\\\"tutorial\\\\\"], data = measurement[{r, g, b}]}, ExportString[Join[meta, data], \\\\\"JSON\\\\\", \\\\\"Compact\\\\\" -> 1]]\\\\n \\\\nmetadata[versionedFunction_String, tag_:Null] := With[{functionCode = ToString[InputForm[FullDefinition[versionedFunction]]]}, {\\\\\"version\\\\\" -> Hash[functionCode, \\\\\"SHA256\\\\\", \\\\\"HexString\\\\\"], \\\\\"func\\\\\" -> functionCode, \\\\\"t0\\\\\" -> AbsoluteTime[], \\\\\"user\\\\\" -> $Username, \\\\\"hostname\\\\\" -> $MachineName, \\\\\"tag\\\\\" -> tag}]\\\\n \\\\nmeasurement[{r_, g_, b_}] := URLExecute[\\\\\"https:\\\\/\\\\/claude-light.cheme.cmu.edu\\\\/api\\\\\", {\\\\\"R\\\\\" -> r, \\\\\"G\\\\\" -> g, \\\\\"B\\\\\" -> b}]\",\\n\\t\"t0\":3.962967340607998e9,\\n\\t\"user\":\"jschrier\",\\n\\t\"hostname\":\"jschrier-laptop\",\\n\\t\"tag\":\"tutorial\",\\n\\t\"in\":[0.4,0.5,0.6],\\n\\t\"out\":{\"415nm\":1733,\"445nm\":19251,\"480nm\":12110,\"515nm\":33755,\"555nm\":6944,\"590nm\":8829,\"630nm\":14631,\"680nm\":3248,\"clear\":59952,\"nir\":5184}\\n}'),\n",
       " (3,\n",
       "  '{\\n\\t\"version\":\"15b32d0bbac2b03ca3f7817ea783556955f907af426e1c1cd0ce18d18551dadc\",\\n\\t\"func\":\"measurementJSON[{r_, g_, b_}, tag_:Null] := With[{meta = metadata[\\\\\"measurementJSON\\\\\", \\\\\"tutorial\\\\\"], data = measurement[{r, g, b}]}, ExportString[Join[meta, data], \\\\\"JSON\\\\\", \\\\\"Compact\\\\\" -> 1]]\\\\n \\\\nmetadata[versionedFunction_String, tag_:Null] := With[{functionCode = ToString[InputForm[FullDefinition[versionedFunction]]]}, {\\\\\"version\\\\\" -> Hash[functionCode, \\\\\"SHA256\\\\\", \\\\\"HexString\\\\\"], \\\\\"func\\\\\" -> functionCode, \\\\\"t0\\\\\" -> AbsoluteTime[], \\\\\"user\\\\\" -> $Username, \\\\\"hostname\\\\\" -> $MachineName, \\\\\"tag\\\\\" -> tag}]\\\\n \\\\nmeasurement[{r_, g_, b_}] := URLExecute[\\\\\"https:\\\\/\\\\/claude-light.cheme.cmu.edu\\\\/api\\\\\", {\\\\\"R\\\\\" -> r, \\\\\"G\\\\\" -> g, \\\\\"B\\\\\" -> b}]\",\\n\\t\"t0\":3.962967453230223e9,\\n\\t\"user\":\"jschrier\",\\n\\t\"hostname\":\"jschrier-laptop\",\\n\\t\"tag\":\"tutorial\",\\n\\t\"in\":[0.4,0.5,0.6],\\n\\t\"out\":{\"415nm\":1734,\"445nm\":19254,\"480nm\":12137,\"515nm\":33901,\"555nm\":6936,\"590nm\":8748,\"630nm\":14462,\"680nm\":3263,\"clear\":58816,\"nir\":5110}\\n}')]"
      ]
     },
     "execution_count": 29,
     "metadata": {},
     "output_type": "execute_result"
    }
   ],
   "source": [
    "data = conn_js.execute(\"\"\"SELECT * FROM measurements;\"\"\").fetchall()\n",
    "print(len(data))\n",
    "data"
   ]
  },
  {
   "cell_type": "code",
   "execution_count": 30,
   "id": "ffd345c9",
   "metadata": {},
   "outputs": [],
   "source": [
    "data = conn_js.execute(\"\"\"select * from measurements where json_extract(data, '$.tag') IS NOT NULL\"\"\").fetchall()"
   ]
  },
  {
   "cell_type": "code",
   "execution_count": 31,
   "id": "a8006cbc",
   "metadata": {},
   "outputs": [
    {
     "data": {
      "text/plain": [
       "3962967340.607998"
      ]
     },
     "execution_count": 31,
     "metadata": {},
     "output_type": "execute_result"
    }
   ],
   "source": [
    "j_data = json.loads(data[1][1])\n",
    "j_data['t0']"
   ]
  },
  {
   "cell_type": "code",
   "execution_count": 32,
   "id": "6bda306a",
   "metadata": {},
   "outputs": [
    {
     "data": {
      "text/plain": [
       "{'version': '15b32d0bbac2b03ca3f7817ea783556955f907af426e1c1cd0ce18d18551dadc',\n",
       " 'func': 'measurementJSON[{r_, g_, b_}, tag_:Null] := With[{meta = metadata[\"measurementJSON\", \"tutorial\"], data = measurement[{r, g, b}]}, ExportString[Join[meta, data], \"JSON\", \"Compact\" -> 1]]\\n \\nmetadata[versionedFunction_String, tag_:Null] := With[{functionCode = ToString[InputForm[FullDefinition[versionedFunction]]]}, {\"version\" -> Hash[functionCode, \"SHA256\", \"HexString\"], \"func\" -> functionCode, \"t0\" -> AbsoluteTime[], \"user\" -> $Username, \"hostname\" -> $MachineName, \"tag\" -> tag}]\\n \\nmeasurement[{r_, g_, b_}] := URLExecute[\"https://claude-light.cheme.cmu.edu/api\", {\"R\" -> r, \"G\" -> g, \"B\" -> b}]',\n",
       " 't0': 3962967340.607998,\n",
       " 'user': 'jschrier',\n",
       " 'hostname': 'jschrier-laptop',\n",
       " 'tag': 'tutorial',\n",
       " 'in': [0.4, 0.5, 0.6],\n",
       " 'out': {'415nm': 1733,\n",
       "  '445nm': 19251,\n",
       "  '480nm': 12110,\n",
       "  '515nm': 33755,\n",
       "  '555nm': 6944,\n",
       "  '590nm': 8829,\n",
       "  '630nm': 14631,\n",
       "  '680nm': 3248,\n",
       "  'clear': 59952,\n",
       "  'nir': 5184}}"
      ]
     },
     "execution_count": 32,
     "metadata": {},
     "output_type": "execute_result"
    }
   ],
   "source": [
    "j_data"
   ]
  },
  {
   "cell_type": "code",
   "execution_count": 33,
   "id": "ce0a2b40",
   "metadata": {},
   "outputs": [
    {
     "data": {
      "text/plain": [
       "datetime.datetime(2095, 7, 31, 12, 15, 40, 607998, tzinfo=zoneinfo.ZoneInfo(key='America/New_York'))"
      ]
     },
     "execution_count": 33,
     "metadata": {},
     "output_type": "execute_result"
    }
   ],
   "source": [
    "dt_data = datetime.fromtimestamp(float(j_data['t0']), ZoneInfo(\"America/New_York\"))\n",
    "dt_data\n",
    "# Weird time"
   ]
  },
  {
   "cell_type": "code",
   "execution_count": 34,
   "id": "efd20b34",
   "metadata": {},
   "outputs": [],
   "source": [
    "conn_js.close()\n",
    "# df.to_csv('data_processed/full_data_JS.csv', index=False)"
   ]
  },
  {
   "cell_type": "markdown",
   "id": "c23140a8",
   "metadata": {},
   "source": [
    "### HL data"
   ]
  },
  {
   "cell_type": "code",
   "execution_count": 35,
   "id": "abf740ce",
   "metadata": {},
   "outputs": [],
   "source": [
    "url_hl = os.getenv(\"CLAUDELIGHT_DB_URL_HL\")\n",
    "auth_token_HL = os.getenv(\"CLAUDELIGHT_RO_HL\")\n",
    "conn_hl = libsql.connect(\"claude_light_hl.db\", sync_url=url_hl, auth_token=auth_token_HL)\n",
    "conn_hl.sync()"
   ]
  },
  {
   "cell_type": "code",
   "execution_count": 36,
   "id": "549a70e6",
   "metadata": {},
   "outputs": [
    {
     "name": "stdout",
     "output_type": "stream",
     "text": [
      "Tables in database:\n",
      "df_results_bsweep\n",
      "df_results_gsweep\n",
      "df_results_rsweep\n",
      "df_results_repeat\n",
      "df_results_lhs\n"
     ]
    }
   ],
   "source": [
    "cursor = conn_hl.cursor()\n",
    "cursor.execute(\"SELECT name FROM sqlite_master WHERE type='table';\")\n",
    "tables = cursor.fetchall()\n",
    "\n",
    "print(\"Tables in database:\")\n",
    "for t in tables:\n",
    "    print(t[0])"
   ]
  },
  {
   "cell_type": "code",
   "execution_count": 37,
   "id": "3d25bfe6",
   "metadata": {},
   "outputs": [
    {
     "name": "stdout",
     "output_type": "stream",
     "text": [
      "Columns in df_results_gsweep:\n",
      "- id\n",
      "- tag\n",
      "- in\n",
      "- temperature_2m\n",
      "- cloudcover\n",
      "- weathercode\n",
      "- datetime\n",
      "- out\n"
     ]
    }
   ],
   "source": [
    "cursor.execute(\"PRAGMA table_info(df_results_gsweep);\")\n",
    "columns = [row[1] for row in cursor.fetchall()]\n",
    "\n",
    "print(\"Columns in df_results_gsweep:\")\n",
    "for col in columns:\n",
    "    print(f\"- {col}\")"
   ]
  },
  {
   "cell_type": "code",
   "execution_count": 40,
   "id": "7bc2e01e",
   "metadata": {},
   "outputs": [
    {
     "name": "stdout",
     "output_type": "stream",
     "text": [
      "20\n"
     ]
    },
    {
     "data": {
      "text/plain": [
       "[(0,\n",
       "  'g_sweep',\n",
       "  '\"[0.0, 0.0, 0.0]\"',\n",
       "  30.9,\n",
       "  83.0,\n",
       "  3,\n",
       "  '2025-07-29 16:27',\n",
       "  '\"{\\'415nm\\': 292, \\'445nm\\': 549, \\'480nm\\': 682, \\'515nm\\': 956, \\'555nm\\': 1811, \\'590nm\\': 1961, \\'630nm\\': 2074, \\'680nm\\': 980, \\'clear\\': 7399, \\'nir\\': 1614}\"'),\n",
       " (1,\n",
       "  'g_sweep',\n",
       "  '\"[0.0, 0.05263157894736842, 0.0]\"',\n",
       "  30.9,\n",
       "  83.0,\n",
       "  3,\n",
       "  '2025-07-29 16:27',\n",
       "  '\"{\\'415nm\\': 347, \\'445nm\\': 570, \\'480nm\\': 1367, \\'515nm\\': 4691, \\'555nm\\': 2401, \\'590nm\\': 2038, \\'630nm\\': 2150, \\'680nm\\': 1055, \\'clear\\': 10427, \\'nir\\': 1688}\"')]"
      ]
     },
     "execution_count": 40,
     "metadata": {},
     "output_type": "execute_result"
    }
   ],
   "source": [
    "data = conn_hl.execute(\"\"\"SELECT * FROM df_results_gsweep;\"\"\").fetchall()\n",
    "print(len(data))\n",
    "data[0:2]"
   ]
  },
  {
   "cell_type": "code",
   "execution_count": 41,
   "id": "5f0ee182",
   "metadata": {},
   "outputs": [
    {
     "data": {
      "text/plain": [
       "'\"[0.0, 0.0, 0.0]\"'"
      ]
     },
     "execution_count": 41,
     "metadata": {},
     "output_type": "execute_result"
    }
   ],
   "source": [
    "data[0][2]"
   ]
  },
  {
   "cell_type": "code",
   "execution_count": 42,
   "id": "2e2e34a0",
   "metadata": {},
   "outputs": [
    {
     "data": {
      "text/plain": [
       "'2025-07-29 16:27'"
      ]
     },
     "execution_count": 42,
     "metadata": {},
     "output_type": "execute_result"
    }
   ],
   "source": [
    "data[0][6]"
   ]
  },
  {
   "cell_type": "code",
   "execution_count": 43,
   "id": "37b317c2",
   "metadata": {},
   "outputs": [
    {
     "data": {
      "text/plain": [
       "'\"{\\'415nm\\': 292, \\'445nm\\': 549, \\'480nm\\': 682, \\'515nm\\': 956, \\'555nm\\': 1811, \\'590nm\\': 1961, \\'630nm\\': 2074, \\'680nm\\': 980, \\'clear\\': 7399, \\'nir\\': 1614}\"'"
      ]
     },
     "execution_count": 43,
     "metadata": {},
     "output_type": "execute_result"
    }
   ],
   "source": [
    "data[0][7]"
   ]
  },
  {
   "cell_type": "code",
   "execution_count": 56,
   "id": "ded33e6d",
   "metadata": {},
   "outputs": [],
   "source": [
    "# HL_db_table = \"bsweep\"\n",
    "# HL_db_table = \"gsweep\"\n",
    "# HL_db_table = \"rsweep\"\n",
    "# HL_db_table = \"repeat\"\n",
    "HL_db_table = \"lhs\""
   ]
  },
  {
   "cell_type": "code",
   "execution_count": 57,
   "id": "96212200",
   "metadata": {},
   "outputs": [
    {
     "name": "stdout",
     "output_type": "stream",
     "text": [
      "(50, 11)\n"
     ]
    },
    {
     "data": {
      "text/html": [
       "<div>\n",
       "<style scoped>\n",
       "    .dataframe tbody tr th:only-of-type {\n",
       "        vertical-align: middle;\n",
       "    }\n",
       "\n",
       "    .dataframe tbody tr th {\n",
       "        vertical-align: top;\n",
       "    }\n",
       "\n",
       "    .dataframe thead th {\n",
       "        text-align: right;\n",
       "    }\n",
       "</style>\n",
       "<table border=\"1\" class=\"dataframe\">\n",
       "  <thead>\n",
       "    <tr style=\"text-align: right;\">\n",
       "      <th></th>\n",
       "      <th>R</th>\n",
       "      <th>G</th>\n",
       "      <th>B</th>\n",
       "      <th>day_of_year</th>\n",
       "      <th>time_of_day</th>\n",
       "      <th>weather_index</th>\n",
       "      <th>cloud_cover_percent</th>\n",
       "      <th>I_445</th>\n",
       "      <th>I_515</th>\n",
       "      <th>I_630</th>\n",
       "      <th>I_clear</th>\n",
       "    </tr>\n",
       "  </thead>\n",
       "  <tbody>\n",
       "    <tr>\n",
       "      <th>0</th>\n",
       "      <td>0.248</td>\n",
       "      <td>0.317</td>\n",
       "      <td>0.640</td>\n",
       "      <td>212</td>\n",
       "      <td>13.467</td>\n",
       "      <td>1</td>\n",
       "      <td>20</td>\n",
       "      <td>21153</td>\n",
       "      <td>23569</td>\n",
       "      <td>11708</td>\n",
       "      <td>61109</td>\n",
       "    </tr>\n",
       "    <tr>\n",
       "      <th>1</th>\n",
       "      <td>0.036</td>\n",
       "      <td>0.811</td>\n",
       "      <td>0.710</td>\n",
       "      <td>212</td>\n",
       "      <td>13.483</td>\n",
       "      <td>1</td>\n",
       "      <td>20</td>\n",
       "      <td>23377</td>\n",
       "      <td>55096</td>\n",
       "      <td>6207</td>\n",
       "      <td>65535</td>\n",
       "    </tr>\n",
       "    <tr>\n",
       "      <th>2</th>\n",
       "      <td>0.806</td>\n",
       "      <td>0.234</td>\n",
       "      <td>0.296</td>\n",
       "      <td>212</td>\n",
       "      <td>13.483</td>\n",
       "      <td>1</td>\n",
       "      <td>20</td>\n",
       "      <td>10558</td>\n",
       "      <td>18022</td>\n",
       "      <td>27610</td>\n",
       "      <td>58082</td>\n",
       "    </tr>\n",
       "  </tbody>\n",
       "</table>\n",
       "</div>"
      ],
      "text/plain": [
       "       R      G      B  day_of_year  time_of_day  weather_index  \\\n",
       "0  0.248  0.317  0.640          212       13.467              1   \n",
       "1  0.036  0.811  0.710          212       13.483              1   \n",
       "2  0.806  0.234  0.296          212       13.483              1   \n",
       "\n",
       "   cloud_cover_percent  I_445  I_515  I_630  I_clear  \n",
       "0                   20  21153  23569  11708    61109  \n",
       "1                   20  23377  55096   6207    65535  \n",
       "2                   20  10558  18022  27610    58082  "
      ]
     },
     "execution_count": 57,
     "metadata": {},
     "output_type": "execute_result"
    }
   ],
   "source": [
    "import ast\n",
    "\n",
    "df_HL = pd.DataFrame()\n",
    "for row in conn_hl.execute(f\"\"\"SELECT * FROM df_results_{HL_db_table};\"\"\").fetchall():\n",
    "    rgb_str = row[2]\n",
    "    time_str = row[6]\n",
    "    out_str = row[7]\n",
    "    \n",
    "    R, G, B = json.loads(json.loads(rgb_str))\n",
    "    \n",
    "    out_dict = ast.literal_eval(out_str) \n",
    "    selected_outputs = ['445nm', '515nm', '630nm', 'clear']\n",
    "\n",
    "    inner_str = ast.literal_eval(out_str)\n",
    "    out_dict = ast.literal_eval(inner_str)\n",
    "    selected_outputs = ['445nm', '515nm', '630nm', 'clear']\n",
    "    out_values = [out_dict[k] for k in selected_outputs]\n",
    "\n",
    "    dt = datetime.strptime(time_str, \"%Y-%m-%d %H:%M\")\n",
    "    str_data_UnixTime = dt.timestamp()\n",
    "    \n",
    "    day_of_year, time_of_day = convert_time(str_data_UnixTime)\n",
    "    weather_index, cloud_cover_percent = request_weather_cloud(str_data_UnixTime)\n",
    "    \n",
    "    flat_data = {\n",
    "        'R': R,\n",
    "        'G': G,\n",
    "        'B': B,\n",
    "        'day_of_year': day_of_year,\n",
    "        'time_of_day': time_of_day,\n",
    "        'weather_index': weather_index,\n",
    "        'cloud_cover_percent': cloud_cover_percent,\n",
    "        'I_445': out_values[0],\n",
    "        'I_515': out_values[1],\n",
    "        'I_630': out_values[2],\n",
    "        'I_clear': out_values[3]\n",
    "    }\n",
    "    df_oneRow = pd.DataFrame([flat_data])\n",
    "    \n",
    "    df_HL = pd.concat([df_HL, df_oneRow], ignore_index=True)\n",
    "\n",
    "print(df_HL.shape)\n",
    "df_HL.head(3)"
   ]
  },
  {
   "cell_type": "code",
   "execution_count": 58,
   "id": "d22065fa",
   "metadata": {},
   "outputs": [],
   "source": [
    "df_HL.to_csv(f'data_processed/full_data_HL_{HL_db_table}.csv', index=False)"
   ]
  },
  {
   "cell_type": "markdown",
   "id": "402717de",
   "metadata": {},
   "source": [
    "### All team data"
   ]
  },
  {
   "cell_type": "code",
   "execution_count": 59,
   "id": "7e35be71",
   "metadata": {},
   "outputs": [],
   "source": [
    "df_results_bsweep = pd.read_csv('data_processed/full_data_HL_bsweep.csv')\n",
    "df_results_gsweep = pd.read_csv('data_processed/full_data_HL_gsweep.csv')\n",
    "df_results_rsweep = pd.read_csv('data_processed/full_data_HL_rsweep.csv')\n",
    "df_results_repeat = pd.read_csv('data_processed/full_data_HL_repeat.csv')\n",
    "df_results_lhs = pd.read_csv('data_processed/full_data_HL_lhs.csv')"
   ]
  },
  {
   "cell_type": "code",
   "execution_count": 60,
   "id": "4905b7ae",
   "metadata": {},
   "outputs": [
    {
     "name": "stdout",
     "output_type": "stream",
     "text": [
      "(218, 11)\n"
     ]
    },
    {
     "data": {
      "text/html": [
       "<div>\n",
       "<style scoped>\n",
       "    .dataframe tbody tr th:only-of-type {\n",
       "        vertical-align: middle;\n",
       "    }\n",
       "\n",
       "    .dataframe tbody tr th {\n",
       "        vertical-align: top;\n",
       "    }\n",
       "\n",
       "    .dataframe thead th {\n",
       "        text-align: right;\n",
       "    }\n",
       "</style>\n",
       "<table border=\"1\" class=\"dataframe\">\n",
       "  <thead>\n",
       "    <tr style=\"text-align: right;\">\n",
       "      <th></th>\n",
       "      <th>R</th>\n",
       "      <th>G</th>\n",
       "      <th>B</th>\n",
       "      <th>day_of_year</th>\n",
       "      <th>time_of_day</th>\n",
       "      <th>weather_index</th>\n",
       "      <th>cloud_cover_percent</th>\n",
       "      <th>I_445</th>\n",
       "      <th>I_515</th>\n",
       "      <th>I_630</th>\n",
       "      <th>I_clear</th>\n",
       "    </tr>\n",
       "  </thead>\n",
       "  <tbody>\n",
       "    <tr>\n",
       "      <th>0</th>\n",
       "      <td>0.0</td>\n",
       "      <td>0.0</td>\n",
       "      <td>0.0</td>\n",
       "      <td>212</td>\n",
       "      <td>13.326</td>\n",
       "      <td>1</td>\n",
       "      <td>96</td>\n",
       "      <td>844</td>\n",
       "      <td>1689</td>\n",
       "      <td>2127</td>\n",
       "      <td>13266</td>\n",
       "    </tr>\n",
       "    <tr>\n",
       "      <th>1</th>\n",
       "      <td>0.9</td>\n",
       "      <td>0.5</td>\n",
       "      <td>0.6</td>\n",
       "      <td>212</td>\n",
       "      <td>13.911</td>\n",
       "      <td>1</td>\n",
       "      <td>100</td>\n",
       "      <td>19888</td>\n",
       "      <td>35221</td>\n",
       "      <td>30901</td>\n",
       "      <td>65535</td>\n",
       "    </tr>\n",
       "    <tr>\n",
       "      <th>2</th>\n",
       "      <td>1.0</td>\n",
       "      <td>0.8</td>\n",
       "      <td>0.2</td>\n",
       "      <td>212</td>\n",
       "      <td>13.911</td>\n",
       "      <td>1</td>\n",
       "      <td>100</td>\n",
       "      <td>7964</td>\n",
       "      <td>54316</td>\n",
       "      <td>34207</td>\n",
       "      <td>65535</td>\n",
       "    </tr>\n",
       "    <tr>\n",
       "      <th>3</th>\n",
       "      <td>0.8</td>\n",
       "      <td>1.0</td>\n",
       "      <td>0.6</td>\n",
       "      <td>212</td>\n",
       "      <td>13.911</td>\n",
       "      <td>1</td>\n",
       "      <td>100</td>\n",
       "      <td>20253</td>\n",
       "      <td>65535</td>\n",
       "      <td>28784</td>\n",
       "      <td>65535</td>\n",
       "    </tr>\n",
       "    <tr>\n",
       "      <th>4</th>\n",
       "      <td>0.0</td>\n",
       "      <td>0.1</td>\n",
       "      <td>0.9</td>\n",
       "      <td>212</td>\n",
       "      <td>13.911</td>\n",
       "      <td>1</td>\n",
       "      <td>100</td>\n",
       "      <td>28791</td>\n",
       "      <td>9686</td>\n",
       "      <td>3991</td>\n",
       "      <td>53746</td>\n",
       "    </tr>\n",
       "  </tbody>\n",
       "</table>\n",
       "</div>"
      ],
      "text/plain": [
       "     R    G    B  day_of_year  time_of_day  weather_index  \\\n",
       "0  0.0  0.0  0.0          212       13.326              1   \n",
       "1  0.9  0.5  0.6          212       13.911              1   \n",
       "2  1.0  0.8  0.2          212       13.911              1   \n",
       "3  0.8  1.0  0.6          212       13.911              1   \n",
       "4  0.0  0.1  0.9          212       13.911              1   \n",
       "\n",
       "   cloud_cover_percent  I_445  I_515  I_630  I_clear  \n",
       "0                   96    844   1689   2127    13266  \n",
       "1                  100  19888  35221  30901    65535  \n",
       "2                  100   7964  54316  34207    65535  \n",
       "3                  100  20253  65535  28784    65535  \n",
       "4                  100  28791   9686   3991    53746  "
      ]
     },
     "execution_count": 60,
     "metadata": {},
     "output_type": "execute_result"
    }
   ],
   "source": [
    "df_BZ = pd.read_csv(\"data_processed/full_data.csv\")\n",
    "\n",
    "df_team = pd.concat([df_BZ, df_results_bsweep, df_results_gsweep, df_results_rsweep, df_results_repeat, df_results_lhs])\n",
    "print(df_team.shape)\n",
    "df_team.head()"
   ]
  },
  {
   "cell_type": "code",
   "execution_count": 61,
   "id": "366c32d1",
   "metadata": {},
   "outputs": [],
   "source": [
    "df_team.to_csv(\"data_processed/full_data_team.csv\", index=False)"
   ]
  }
 ],
 "metadata": {
  "kernelspec": {
   "display_name": "torch",
   "language": "python",
   "name": "python3"
  },
  "language_info": {
   "codemirror_mode": {
    "name": "ipython",
    "version": 3
   },
   "file_extension": ".py",
   "mimetype": "text/x-python",
   "name": "python",
   "nbconvert_exporter": "python",
   "pygments_lexer": "ipython3",
   "version": "3.11.11"
  }
 },
 "nbformat": 4,
 "nbformat_minor": 5
}
