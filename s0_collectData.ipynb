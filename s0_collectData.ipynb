{
 "cells": [
  {
   "cell_type": "code",
   "execution_count": 8,
   "id": "c6d09a91",
   "metadata": {},
   "outputs": [],
   "source": [
    "import os\n",
    "import libsql\n",
    "from dotenv import load_dotenv\n",
    "\n",
    "load_dotenv()\n",
    "\n",
    "url = os.getenv(\"CLAUDELIGHT_DB_URL\")\n",
    "auth_token = os.getenv(\"CLAUDELIGHT_RW\")\n",
    "conn = libsql.connect(\"claude_light.db\", sync_url=url, auth_token=auth_token)\n",
    "conn.sync()\n",
    "\n",
    "# Create Table in db\n",
    "conn.execute('''create table if not exists\n",
    "measurements (\n",
    "id INTEGER PRIMARY KEY, -- this is the rowid\n",
    "data JSON -- JSON blob (stored as TEXT under the hood)\n",
    ")''')\n",
    "conn.sync()"
   ]
  },
  {
   "cell_type": "markdown",
   "id": "7accab8f",
   "metadata": {},
   "source": [
    "## Collect data to start"
   ]
  },
  {
   "cell_type": "code",
   "execution_count": 9,
   "id": "e667103a",
   "metadata": {},
   "outputs": [],
   "source": [
    "# Collect data\n",
    "\n",
    "import time\n",
    "import requests\n",
    "import getpass\n",
    "import socket\n",
    "import inspect\n",
    "import hashlib\n",
    "import ast\n",
    "\n",
    "def rgb(R=0, G=0, B=0, tag=None):\n",
    "    \"\"\"Run Claude-Light.\n",
    "    R: float\n",
    "    The red channel setting (0-1)\n",
    "    G: float\n",
    "    The green channel setting (0-1)\n",
    "    B: float\n",
    "    The blue channel setting (0-1)\n",
    "    tag: string\n",
    "    A label for grouping measurements\n",
    "    Returns\n",
    "    -------\n",
    "    A dictionary with metadata and results\n",
    "    \"\"\"\n",
    "    source = inspect.getsource(rgb)\n",
    "    # Parse and unparse to normalize formatting\n",
    "    tree = ast.parse(source)\n",
    "    normalized = ast.unparse(tree)\n",
    "    d = {'version': hashlib.sha256(normalized.encode()).hexdigest(), \n",
    "         'func': normalized,\n",
    "         't0': time.time(),\n",
    "         'user': getpass.getuser(),\n",
    "         'hostname': socket.gethostname(),\n",
    "         'tag': tag}\n",
    "    res = requests.get('https://claude-light.cheme.cmu.edu/api', params={'R': R, 'G': G, 'B': B})\n",
    "    d.update(res.json())\n",
    "    return d"
   ]
  },
  {
   "cell_type": "code",
   "execution_count": 10,
   "id": "cc381073",
   "metadata": {},
   "outputs": [
    {
     "data": {
      "text/plain": [
       "{'version': 'f5ab4a210c9e404eedc76fed681759d8a800399d82380f4c33d7897ba207226c',\n",
       " 'func': 'def rgb(R=0, G=0, B=0, tag=None):\\n    \"\"\"Run Claude-Light.\\n    R: float\\n    The red channel setting (0-1)\\n    G: float\\n    The green channel setting (0-1)\\n    B: float\\n    The blue channel setting (0-1)\\n    tag: string\\n    A label for grouping measurements\\n    Returns\\n    -------\\n    A dictionary with metadata and results\\n    \"\"\"\\n    source = inspect.getsource(rgb)\\n    tree = ast.parse(source)\\n    normalized = ast.unparse(tree)\\n    d = {\\'version\\': hashlib.sha256(normalized.encode()).hexdigest(), \\'func\\': normalized, \\'t0\\': time.time(), \\'user\\': getpass.getuser(), \\'hostname\\': socket.gethostname(), \\'tag\\': tag}\\n    res = requests.get(\\'https://claude-light.cheme.cmu.edu/api\\', params={\\'R\\': R, \\'G\\': G, \\'B\\': B})\\n    d.update(res.json())\\n    return d',\n",
       " 't0': 1754070252.9737647,\n",
       " 'user': '26070',\n",
       " 'hostname': 'Baosen-PC',\n",
       " 'tag': 'background',\n",
       " 'in': [0.0, 0.0, 0.0],\n",
       " 'out': {'415nm': 401,\n",
       "  '445nm': 719,\n",
       "  '480nm': 925,\n",
       "  '515nm': 1332,\n",
       "  '555nm': 1440,\n",
       "  '590nm': 1564,\n",
       "  '630nm': 1528,\n",
       "  '680nm': 1721,\n",
       "  'clear': 9881,\n",
       "  'nir': 3938}}"
      ]
     },
     "execution_count": 10,
     "metadata": {},
     "output_type": "execute_result"
    }
   ],
   "source": [
    "# Collect one backgroud data with all 0\n",
    "\n",
    "res = rgb(tag='background')\n",
    "res"
   ]
  },
  {
   "cell_type": "code",
   "execution_count": 11,
   "id": "c134cbe7",
   "metadata": {},
   "outputs": [],
   "source": [
    "# Store data to db\n",
    "\n",
    "import json\n",
    "conn.execute(\"INSERT INTO measurements(data) VALUES (?);\", [json.dumps(res)])\n",
    "conn.commit()\n",
    "conn.sync()"
   ]
  },
  {
   "cell_type": "code",
   "execution_count": 12,
   "id": "b2c7da88",
   "metadata": {},
   "outputs": [
    {
     "name": "stdout",
     "output_type": "stream",
     "text": [
      "{'415nm': 471, '445nm': 844, '480nm': 1108, '515nm': 1689, '555nm': 1890, '590nm': 2073, '630nm': 2127, '680nm': 2417, 'clear': 13266, 'nir': 5343}\n",
      "{'415nm': 583, '445nm': 1019, '480nm': 1255, '515nm': 1893, '555nm': 2081, '590nm': 2252, '630nm': 2197, '680nm': 2586, 'clear': 16726, 'nir': 9400}\n",
      "{'415nm': 401, '445nm': 719, '480nm': 925, '515nm': 1332, '555nm': 1440, '590nm': 1564, '630nm': 1528, '680nm': 1721, 'clear': 9881, 'nir': 3938}\n"
     ]
    }
   ],
   "source": [
    "# Read data from db\n",
    "\n",
    "for rowid, data in conn.execute(\"\"\"select * from measurements where json_extract(data, '$.tag') = 'background'\"\"\").fetchall():\n",
    "    j = json.loads(data)\n",
    "    print(j['out'])"
   ]
  },
  {
   "cell_type": "code",
   "execution_count": 13,
   "id": "d48523d6",
   "metadata": {},
   "outputs": [
    {
     "data": {
      "text/plain": [
       "{'version': 'f5ab4a210c9e404eedc76fed681759d8a800399d82380f4c33d7897ba207226c',\n",
       " 'func': 'def rgb(R=0, G=0, B=0, tag=None):\\n    \"\"\"Run Claude-Light.\\n    R: float\\n    The red channel setting (0-1)\\n    G: float\\n    The green channel setting (0-1)\\n    B: float\\n    The blue channel setting (0-1)\\n    tag: string\\n    A label for grouping measurements\\n    Returns\\n    -------\\n    A dictionary with metadata and results\\n    \"\"\"\\n    source = inspect.getsource(rgb)\\n    tree = ast.parse(source)\\n    normalized = ast.unparse(tree)\\n    d = {\\'version\\': hashlib.sha256(normalized.encode()).hexdigest(), \\'func\\': normalized, \\'t0\\': time.time(), \\'user\\': getpass.getuser(), \\'hostname\\': socket.gethostname(), \\'tag\\': tag}\\n    res = requests.get(\\'https://claude-light.cheme.cmu.edu/api\\', params={\\'R\\': R, \\'G\\': G, \\'B\\': B})\\n    d.update(res.json())\\n    return d',\n",
       " 't0': 1754070252.9737647,\n",
       " 'user': '26070',\n",
       " 'hostname': 'Baosen-PC',\n",
       " 'tag': 'background',\n",
       " 'in': [0.0, 0.0, 0.0],\n",
       " 'out': {'415nm': 401,\n",
       "  '445nm': 719,\n",
       "  '480nm': 925,\n",
       "  '515nm': 1332,\n",
       "  '555nm': 1440,\n",
       "  '590nm': 1564,\n",
       "  '630nm': 1528,\n",
       "  '680nm': 1721,\n",
       "  'clear': 9881,\n",
       "  'nir': 3938}}"
      ]
     },
     "execution_count": 13,
     "metadata": {},
     "output_type": "execute_result"
    }
   ],
   "source": [
    "j"
   ]
  },
  {
   "cell_type": "markdown",
   "id": "c77ac711",
   "metadata": {},
   "source": [
    "## Collect more data"
   ]
  },
  {
   "cell_type": "code",
   "execution_count": 14,
   "id": "46eba803",
   "metadata": {},
   "outputs": [
    {
     "name": "stdout",
     "output_type": "stream",
     "text": [
      "20250801\n"
     ]
    }
   ],
   "source": [
    "today_str = time.strftime(\"%Y%m%d\")\n",
    "print(today_str)"
   ]
  },
  {
   "cell_type": "code",
   "execution_count": 17,
   "id": "2b792465",
   "metadata": {},
   "outputs": [],
   "source": [
    "# Collect more data\n",
    "import random\n",
    "\n",
    "for _ in range(10):\n",
    "    r = round(random.random(), 1)\n",
    "    g = round(random.random(), 1)\n",
    "    b = round(random.random(), 1)\n",
    "    res = rgb(r, g, b, tag=today_str)\n",
    "    # Store to db\n",
    "    conn.execute(\"INSERT INTO measurements(data) VALUES (?);\", [json.dumps(res)])\n",
    "    conn.commit()\n",
    "    conn.sync()\n",
    "    \n",
    "    time.sleep(10)"
   ]
  }
 ],
 "metadata": {
  "kernelspec": {
   "display_name": "torch",
   "language": "python",
   "name": "python3"
  },
  "language_info": {
   "codemirror_mode": {
    "name": "ipython",
    "version": 3
   },
   "file_extension": ".py",
   "mimetype": "text/x-python",
   "name": "python",
   "nbconvert_exporter": "python",
   "pygments_lexer": "ipython3",
   "version": "3.11.11"
  }
 },
 "nbformat": 4,
 "nbformat_minor": 5
}
