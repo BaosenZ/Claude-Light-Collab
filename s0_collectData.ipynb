{
 "cells": [
  {
   "cell_type": "code",
   "execution_count": 12,
   "id": "c6d09a91",
   "metadata": {},
   "outputs": [],
   "source": [
    "import os\n",
    "import libsql\n",
    "from dotenv import load_dotenv\n",
    "\n",
    "load_dotenv()\n",
    "\n",
    "url = os.getenv(\"CLAUDELIGHT_DB_URL\")\n",
    "auth_token = os.getenv(\"CLAUDELIGHT_RW\")\n",
    "conn = libsql.connect(\"db_BZ/claude_light.db\", sync_url=url, auth_token=auth_token)\n",
    "conn.sync()\n",
    "\n",
    "# Create Table in db\n",
    "conn.execute('''create table if not exists\n",
    "measurements (\n",
    "id INTEGER PRIMARY KEY, -- this is the rowid\n",
    "data JSON -- JSON blob (stored as TEXT under the hood)\n",
    ")''')\n",
    "conn.sync()"
   ]
  },
  {
   "cell_type": "markdown",
   "id": "7accab8f",
   "metadata": {},
   "source": [
    "## Collect data to start"
   ]
  },
  {
   "cell_type": "code",
   "execution_count": 13,
   "id": "e667103a",
   "metadata": {},
   "outputs": [],
   "source": [
    "# Collect data\n",
    "\n",
    "import time\n",
    "import requests\n",
    "import getpass\n",
    "import socket\n",
    "import inspect\n",
    "import hashlib\n",
    "import ast\n",
    "import json\n",
    "\n",
    "def rgb(R=0, G=0, B=0, tag=None):\n",
    "    \"\"\"Run Claude-Light.\n",
    "    R: float\n",
    "    The red channel setting (0-1)\n",
    "    G: float\n",
    "    The green channel setting (0-1)\n",
    "    B: float\n",
    "    The blue channel setting (0-1)\n",
    "    tag: string\n",
    "    A label for grouping measurements\n",
    "    Returns\n",
    "    -------\n",
    "    A dictionary with metadata and results\n",
    "    \"\"\"\n",
    "    source = inspect.getsource(rgb)\n",
    "    # Parse and unparse to normalize formatting\n",
    "    tree = ast.parse(source)\n",
    "    normalized = ast.unparse(tree)\n",
    "    d = {'version': hashlib.sha256(normalized.encode()).hexdigest(), \n",
    "         'func': normalized,\n",
    "         't0': time.time(),\n",
    "         'user': getpass.getuser(),\n",
    "         'hostname': socket.gethostname(),\n",
    "         'tag': tag}\n",
    "    res = requests.get('https://claude-light.cheme.cmu.edu/api', params={'R': R, 'G': G, 'B': B})\n",
    "    d.update(res.json())\n",
    "    return d"
   ]
  },
  {
   "cell_type": "code",
   "execution_count": 14,
   "id": "cc381073",
   "metadata": {},
   "outputs": [],
   "source": [
    "# Collect one backgroud data with all 0\n",
    "\n",
    "# res = rgb(tag='background')\n",
    "# res"
   ]
  },
  {
   "cell_type": "code",
   "execution_count": 15,
   "id": "c134cbe7",
   "metadata": {},
   "outputs": [],
   "source": [
    "# Store data to db\n",
    "\n",
    "# conn.execute(\"INSERT INTO measurements(data) VALUES (?);\", [json.dumps(res)])\n",
    "# conn.commit()\n",
    "# conn.sync()"
   ]
  },
  {
   "cell_type": "code",
   "execution_count": 16,
   "id": "b2c7da88",
   "metadata": {},
   "outputs": [],
   "source": [
    "# Read data from db\n",
    "\n",
    "# for rowid, data in conn.execute(\"\"\"select * from measurements where json_extract(data, '$.tag') = 'background'\"\"\").fetchall():\n",
    "#     j = json.loads(data)\n",
    "#     if rowid == 0 | rowid == 2:\n",
    "#         print(j['out'])"
   ]
  },
  {
   "cell_type": "code",
   "execution_count": 17,
   "id": "d48523d6",
   "metadata": {},
   "outputs": [],
   "source": [
    "# j"
   ]
  },
  {
   "cell_type": "markdown",
   "id": "c77ac711",
   "metadata": {},
   "source": [
    "## Collect more data"
   ]
  },
  {
   "cell_type": "code",
   "execution_count": 18,
   "id": "46eba803",
   "metadata": {},
   "outputs": [
    {
     "name": "stdout",
     "output_type": "stream",
     "text": [
      "20251029\n"
     ]
    }
   ],
   "source": [
    "today_str = time.strftime(\"%Y%m%d\")\n",
    "print(today_str)"
   ]
  },
  {
   "cell_type": "code",
   "execution_count": 19,
   "id": "2b792465",
   "metadata": {},
   "outputs": [],
   "source": [
    "# Collect more data\n",
    "import random\n",
    "\n",
    "for i in range(25):\n",
    "    if i == 0:\n",
    "        r = 0.5\n",
    "        g = 0.5\n",
    "        b = 0.5\n",
    "        res = rgb(r, g, b, tag=today_str)\n",
    "    else:\n",
    "        r = round(random.random(), 1)\n",
    "        g = round(random.random(), 1)\n",
    "        b = round(random.random(), 1)\n",
    "        res = rgb(r, g, b, tag=today_str)\n",
    "    # Store to db\n",
    "    conn.execute(\"INSERT INTO measurements(data) VALUES (?);\", [json.dumps(res)])\n",
    "    conn.commit()\n",
    "    conn.sync()\n",
    "    \n",
    "    time.sleep(3)"
   ]
  },
  {
   "cell_type": "code",
   "execution_count": 20,
   "id": "8d732338",
   "metadata": {},
   "outputs": [],
   "source": [
    "# r = 0.5\n",
    "# g = 0.5\n",
    "# b = 0.5\n",
    "# res = rgb(r, g, b, tag=today_str)\n",
    "# # Store to db\n",
    "# conn.execute(\"INSERT INTO measurements(data) VALUES (?);\", [json.dumps(res)])\n",
    "# conn.commit()\n",
    "# conn.sync()"
   ]
  },
  {
   "cell_type": "code",
   "execution_count": 21,
   "id": "650a54cf",
   "metadata": {},
   "outputs": [],
   "source": [
    "# for rowid, data in conn.execute(f\"\"\"SELECT * FROM measurements WHERE json_extract(data, '$.tag') = '{today_str}'\"\"\").fetchall():\n",
    "#     j = json.loads(data)\n",
    "#     print(j)"
   ]
  }
 ],
 "metadata": {
  "kernelspec": {
   "display_name": "envfsepamolgen2",
   "language": "python",
   "name": "python3"
  },
  "language_info": {
   "codemirror_mode": {
    "name": "ipython",
    "version": 3
   },
   "file_extension": ".py",
   "mimetype": "text/x-python",
   "name": "python",
   "nbconvert_exporter": "python",
   "pygments_lexer": "ipython3",
   "version": "3.11.7"
  }
 },
 "nbformat": 4,
 "nbformat_minor": 5
}
